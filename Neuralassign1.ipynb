{
  "nbformat": 4,
  "nbformat_minor": 0,
  "metadata": {
    "colab": {
      "provenance": []
    },
    "kernelspec": {
      "name": "python3",
      "display_name": "Python 3"
    },
    "language_info": {
      "name": "python"
    }
  },
  "cells": [
    {
      "cell_type": "code",
      "execution_count": 1,
      "metadata": {
        "colab": {
          "base_uri": "https://localhost:8080/"
        },
        "id": "gjhLVGplfzHF",
        "outputId": "a8a7b839-b922-40ad-cea7-b685bdc9847d"
      },
      "outputs": [
        {
          "output_type": "stream",
          "name": "stdout",
          "text": [
            "Enter a string: python\n",
            "Reversed string: noht\n"
          ]
        }
      ],
      "source": [
        "\n",
        "input1 = input(\"Enter a string: \")\n",
        "if len(input1) < 2:\n",
        "    print(\"Input string must have at least 2 characters.\")\n",
        "else:\n",
        "    deleted_char = input1[2:]\n",
        "\n",
        "    reversed_string = deleted_char[::-1]\n",
        "\n",
        "    print(\"Reversed string:\", reversed_string)\n"
      ]
    },
    {
      "cell_type": "code",
      "source": [
        "ip1 = float(input(\"Enter first number : \"))\n",
        "ip2 = float(input(\"eneter second number : \"))\n",
        "print(\"Addition:\", ip1+ip2)\n",
        "print(\"Subtraction:\", ip1-ip2)\n",
        "print(\"Multiplication:\", ip1*ip2)\n",
        "print(\"Division:\", ip1/ip2)"
      ],
      "metadata": {
        "colab": {
          "base_uri": "https://localhost:8080/"
        },
        "id": "CkiPqgTbhBC3",
        "outputId": "eedd9a42-bc18-403a-e4c9-2128b2ffe330"
      },
      "execution_count": 2,
      "outputs": [
        {
          "output_type": "stream",
          "name": "stdout",
          "text": [
            "Enter first number : 25\n",
            "eneter second number : 5\n",
            "Addition: 30.0\n",
            "Subtraction: 20.0\n",
            "Multiplication: 125.0\n",
            "Division: 5.0\n"
          ]
        }
      ]
    },
    {
      "cell_type": "code",
      "source": [
        "ip = input(\"Enter a sentence: \")\n",
        "\n",
        "op = ip.replace('python', 'pythons')\n",
        "\n",
        "print(\"Modified sentence:\", op)"
      ],
      "metadata": {
        "colab": {
          "base_uri": "https://localhost:8080/"
        },
        "id": "FV4xaMZMhxuR",
        "outputId": "fdcd568f-d5de-4091-ace6-7d5a230622e8"
      },
      "execution_count": 4,
      "outputs": [
        {
          "output_type": "stream",
          "name": "stdout",
          "text": [
            "Enter a sentence: I love playing with python\n",
            "Modified sentence: I love playing with pythons\n"
          ]
        }
      ]
    },
    {
      "cell_type": "code",
      "source": [
        "ip_score = int(input(\"Enter class score \"))\n",
        "if(ip_score>=90):\n",
        "  print(\"A\")\n",
        "elif(ip_score>=80 and ip_score<90):\n",
        "  print(\"B\")\n",
        "elif(ip_score>=70 and ip_score<80):\n",
        "  print(\"C\")\n",
        "elif(ip_score>=60 and ip_score<70):\n",
        "  print(\"D\")\n",
        "else:\n",
        "  print(\"F\")"
      ],
      "metadata": {
        "colab": {
          "base_uri": "https://localhost:8080/"
        },
        "id": "t0x7sAC_ie1L",
        "outputId": "25b8c7a1-fa40-4b70-c19f-a8a0eda17d0a"
      },
      "execution_count": 9,
      "outputs": [
        {
          "output_type": "stream",
          "name": "stdout",
          "text": [
            "Enter class score 88\n",
            "B\n"
          ]
        }
      ]
    }
  ]
}